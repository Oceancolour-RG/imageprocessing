{
 "cells": [
  {
   "cell_type": "markdown",
   "id": "df080a33",
   "metadata": {},
   "source": [
    "# MicaSense Dual Camera Workflow"
   ]
  },
  {
   "cell_type": "markdown",
   "id": "5c33c060",
   "metadata": {},
   "source": [
    "## 1. Restructure image data folders\n",
    "The native folder structure obtained from the RedEdge-MX and RedEdge-MX-Blue cameras are inconvenient, where several acquisition subfolders (e.g. 000/, 001/, 002/ etc) exist within a SYNCXXXXSET directory. Each of these subfolders contain 200 acquisitions per band, hence 1000 tif files for the five bands of the RedEdge-MX/RedEdge-MX-Blue cameras. The following code reorganises the SYNCXXXXSET folders such that:\n",
    "```\n",
    "SYNCXXXXSET/\n",
    "     |--> dat/\n",
    "           |--> diag0.dat\n",
    "           |--> gpslog0.dat\n",
    "           |--> hostlog0.dat\n",
    "           |--> paramlog0.dat\n",
    "     |--> IMG_0000_B.tif\n",
    "     |--> IMG_0001_B.tif\n",
    "     ....\n",
    "     |--> IMG_YYYY_B.tif\n",
    "\n",
    "where B = 1 -> 5 for RedEdge-MX, and\n",
    "      B = 6 -> 10 for RedEdge-MX-Blue\n",
    "```"
   ]
  },
  {
   "cell_type": "code",
   "execution_count": null,
   "id": "307285bf",
   "metadata": {},
   "outputs": [],
   "source": [
    "from pathlib import Path\n",
    "from micasense.restructure_dirs import restructure\n",
    "\n",
    "# Specify path to MicaSense image data\n",
    "base_path = Path(\"/home/user_ra/Documents/uav_data/20211126_WoodmanPoint\")\n",
    "data_path = base_path / \"micasense\"\n",
    "\n",
    "# re-running restructure() on a given directory won't delete\n",
    "# anything or do anything untoward\n",
    "restructure(data_path / \"red_cam\")  # restructure red_cam folder\n",
    "restructure(data_path / \"blue_cam\")  # restructure blue_cam folder"
   ]
  },
  {
   "cell_type": "markdown",
   "id": "90a61001",
   "metadata": {},
   "source": [
    "## 2. Create metadata yaml files\n",
    "Create a convenient set of yaml files that store all the necessary band acquisition metadata for each image acquisition set. This is especially prudent for the DualCamera, which for one acquisition set has 10 tif files in two separate folders."
   ]
  },
  {
   "cell_type": "code",
   "execution_count": null,
   "id": "a239f38f",
   "metadata": {},
   "outputs": [],
   "source": [
    "from pathlib import Path\n",
    "from micasense.acquisition_yamls import create_img_acqi_yamls\n",
    "\n",
    "# Specify the path to acquisition image data\n",
    "# BASE_PATH = Path(\"/home/user_ra/Documents/uav_data/woodman_point_20211029\")\n",
    "base_path = Path(\"/home/user_ra/Documents/uav_data/20211126_WoodmanPoint\")\n",
    "data_path =  base_path / \"micasense\"\n",
    "\n",
    "# NOTE: \n",
    "# 1. create_img_acqi_yamls() assumes that the folder structure of the image data\n",
    "#    has already been reorganised via micasense.restructure_dirs.restructure()\n",
    "# 2. when opath = None, the yaml files are saved in the folder,\n",
    "#    data_path / \"metadata\"\n",
    "create_img_acqi_yamls(dpath=base_path, opath=None)"
   ]
  },
  {
   "cell_type": "markdown",
   "id": "1c0eb9bf",
   "metadata": {},
   "source": [
    "## 3. Appending Reach M2 PPK Lat/Lon/Height to metadata yaml's\n",
    "If the RedEdge-MX trigger signal was integrated to the Reach M2, then PPK positioning can be added to the yaml metadata files. This step requires processing the Reach M2 data and obtaining the *_events.pos file from external software such as RTKLIB"
   ]
  },
  {
   "cell_type": "code",
   "execution_count": null,
   "id": "6ae21552",
   "metadata": {},
   "outputs": [],
   "source": [
    "from pathlib import Path\n",
    "from micasense.acquisition_yamls import append_reach2yaml\n",
    "\n",
    "# Specify the yaml metadata and reach m2 base paths\n",
    "base_path = Path(\"/home/user_ra/Documents/uav_data/20211126_WoodmanPoint\")\n",
    "ypath = base_path / \"micasense\" / \"metadata\"  # yaml's created above\n",
    "rpath = base_path / \"reach_m2\" / \"processed\"  # Reach M2\n",
    "\n",
    "# Specify the leap seconds to substract from the Reach M2 GPS time to obtain UTC time\n",
    "leap_sec = 18  # see https://endruntechnologies.com/support/leap-seconds\n",
    "\n",
    "ms_to_reach = {\n",
    "    \"SYNC0009SET\": rpath / \"reach_202111260212\" / \"reach_raw_202111260212_events.pos\",\n",
    "    \"SYNC0014SET\": rpath / \"reach_202111260245\" / \"reach_raw_202111260245_events.pos\",\n",
    "    \"SYNC0016SET\": rpath / \"reach_202111260440\" / \"reach_raw_202111260440_events.pos\",\n",
    "    \"SYNC0018SET\": rpath / \"reach_202111260445\" / \"reach_raw_202111260445_events.pos\",\n",
    "    \"SYNC0021SET\": rpath / \"reach_202111260517\" / \"reach_raw_202111260517_events.pos\",\n",
    "}\n",
    "\n",
    "for key in ms_to_reach:\n",
    "    append_reach2yaml(\n",
    "        yaml_path=ypath / key, events_file=ms_to_reach[key], leap_sec=leap_sec\n",
    "    )"
   ]
  }
 ],
 "metadata": {
  "kernelspec": {
   "display_name": "Python 3 (ipykernel)",
   "language": "python",
   "name": "python3"
  },
  "language_info": {
   "codemirror_mode": {
    "name": "ipython",
    "version": 3
   },
   "file_extension": ".py",
   "mimetype": "text/x-python",
   "name": "python",
   "nbconvert_exporter": "python",
   "pygments_lexer": "ipython3",
   "version": "3.8.10"
  }
 },
 "nbformat": 4,
 "nbformat_minor": 5
}
